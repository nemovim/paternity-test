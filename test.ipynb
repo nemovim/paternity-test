{
 "cells": [
  {
   "cell_type": "code",
   "execution_count": 1,
   "metadata": {},
   "outputs": [],
   "source": [
    "from libs.dataset import Dataset\n",
    "from torch.utils.data import DataLoader"
   ]
  },
  {
   "cell_type": "code",
   "execution_count": 2,
   "metadata": {},
   "outputs": [],
   "source": [
    "\n",
    "train_dataset   = Dataset('./dataset/extracted', shuffle_pairs=True, augment=True)\n",
    "train_dataloader = DataLoader(train_dataset, batch_size=8, drop_last=True)"
   ]
  },
  {
   "cell_type": "code",
   "execution_count": 3,
   "metadata": {},
   "outputs": [
    {
     "name": "stdout",
     "output_type": "stream",
     "text": [
      "('./dataset/extracted\\\\F0017_IND_GF_75_0_CAM.jpg', './dataset/extracted\\\\F0009_IND_M_55_0_CAM.jpg', './dataset/extracted\\\\F0010_IND_S_17_0_CAM.jpg', './dataset/extracted\\\\F0014_IND_D_14_0_CAM.jpg', './dataset/extracted\\\\F0009_IND_S_30_0_05.JPG', './dataset/extracted\\\\F0012_IND_S_18_0_04.JPG', './dataset/extracted\\\\F0010_IND_F_46_0_05.JPG', './dataset/extracted\\\\F0014_IND_D_14_0_04.JPG')\n",
      "('./dataset/extracted\\\\F0017_IND_M_43_0_01.JPG', './dataset/extracted\\\\F0009_IND_S_30_0_01.JPG', './dataset/extracted\\\\F0013_IND_GM_72_0_01.JPG', './dataset/extracted\\\\F0008_IND_GM_85_0_01.JPG', './dataset/extracted\\\\F0001_IND_D_18_0_01.JPG', './dataset/extracted\\\\F0013_IND_GM_72_0_01.JPG', './dataset/extracted\\\\F0010_IND_S_17_0_01.JPG', './dataset/extracted\\\\F0007_IND_GM_74_0_01.JPG')\n",
      "('F0017_IND_GF', 'F0009_IND_M', 'F0010_IND_S', 'F0014_IND_D', 'F0009_IND_S', 'F0012_IND_S', 'F0010_IND_F', 'F0014_IND_D')\n",
      "('F0017_IND_M', 'F0009_IND_S', 'F0013_IND_GM', 'F0008_IND_GM', 'F0001_IND_D', 'F0013_IND_GM', 'F0010_IND_S', 'F0007_IND_GM')\n",
      "tensor([[1.],\n",
      "        [1.],\n",
      "        [0.],\n",
      "        [0.],\n",
      "        [0.],\n",
      "        [0.],\n",
      "        [1.],\n",
      "        [0.]])\n"
     ]
    }
   ],
   "source": [
    "for (img1, img2), y, (class1, class2), (path1, path2) in train_dataloader:\n",
    "    print(path1)\n",
    "    print(path2)\n",
    "    print(class1)\n",
    "    print(class2)\n",
    "    print(y)\n",
    "    break"
   ]
  },
  {
   "cell_type": "code",
   "execution_count": null,
   "metadata": {},
   "outputs": [],
   "source": []
  }
 ],
 "metadata": {
  "kernelspec": {
   "display_name": "paternity-test",
   "language": "python",
   "name": "python3"
  },
  "language_info": {
   "codemirror_mode": {
    "name": "ipython",
    "version": 3
   },
   "file_extension": ".py",
   "mimetype": "text/x-python",
   "name": "python",
   "nbconvert_exporter": "python",
   "pygments_lexer": "ipython3",
   "version": "3.12.4"
  }
 },
 "nbformat": 4,
 "nbformat_minor": 2
}
